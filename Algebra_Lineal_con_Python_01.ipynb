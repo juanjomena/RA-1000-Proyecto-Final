{
  "nbformat": 4,
  "nbformat_minor": 0,
  "metadata": {
    "colab": {
      "provenance": []
    },
    "kernelspec": {
      "name": "python3",
      "display_name": "Python 3"
    },
    "language_info": {
      "name": "python"
    }
  },
  "cells": [
    {
      "cell_type": "markdown",
      "source": [
        "# Introducción a Python\n",
        "\n",
        "\n",
        "1.   Objetos: números, strings, listas, conjuntos,carreglos (vectores y/o matrices), diccionarios (crear bases de datos), dataframes.\n",
        "2.   Atributos de objetos.\n",
        "\n"
      ],
      "metadata": {
        "id": "3T6hxODufTaZ"
      }
    },
    {
      "cell_type": "markdown",
      "source": [
        "Hay funciones (built-in) dentro de Python:\n",
        "\n",
        "*   +, -, *, $**$, etc\n",
        "*   ´type´ (contesta a la pregunta: que tipo de objeto estás representando) print (imprimir objetos, es decir leer código)\n",
        "\n"
      ],
      "metadata": {
        "id": "4GfLYh15hlg0"
      }
    },
    {
      "cell_type": "markdown",
      "source": [],
      "metadata": {
        "id": "NLol23YHhsEo"
      }
    },
    {
      "cell_type": "code",
      "execution_count": 1,
      "metadata": {
        "colab": {
          "base_uri": "https://localhost:8080/"
        },
        "id": "byWgEz_zdyZB",
        "outputId": "06e76bd6-a0a3-4559-a143-63c2620103c6"
      },
      "outputs": [
        {
          "output_type": "execute_result",
          "data": {
            "text/plain": [
              "(7, 3, 10, 25)"
            ]
          },
          "metadata": {},
          "execution_count": 1
        }
      ],
      "source": [
        "5+2, 5-2, 5*2, 5**2"
      ]
    },
    {
      "cell_type": "code",
      "source": [
        "type((7,3))\n"
      ],
      "metadata": {
        "colab": {
          "base_uri": "https://localhost:8080/"
        },
        "id": "TolnfbPghXSg",
        "outputId": "dfa754f4-ca60-496c-bd6a-b007617c9b1b"
      },
      "execution_count": 2,
      "outputs": [
        {
          "output_type": "execute_result",
          "data": {
            "text/plain": [
              "tuple"
            ]
          },
          "metadata": {},
          "execution_count": 2
        }
      ]
    },
    {
      "cell_type": "code",
      "source": [
        "print(5+2)\n",
        "print(5-2)\n",
        "print(5*2)\n",
        "print (5**2)\n"
      ],
      "metadata": {
        "colab": {
          "base_uri": "https://localhost:8080/"
        },
        "id": "v_P9THCnjq_T",
        "outputId": "732af01a-4e02-4152-9262-c81da344dd68"
      },
      "execution_count": 3,
      "outputs": [
        {
          "output_type": "stream",
          "name": "stdout",
          "text": [
            "7\n",
            "3\n",
            "10\n",
            "25\n"
          ]
        }
      ]
    },
    {
      "cell_type": "code",
      "source": [
        "type(\"Hola Mundo\")\n",
        "\n",
        "\n"
      ],
      "metadata": {
        "colab": {
          "base_uri": "https://localhost:8080/"
        },
        "id": "aVOgogrZj9y8",
        "outputId": "ea29da1a-e699-4d21-8c57-c30404604a7f"
      },
      "execution_count": 4,
      "outputs": [
        {
          "output_type": "execute_result",
          "data": {
            "text/plain": [
              "str"
            ]
          },
          "metadata": {},
          "execution_count": 4
        }
      ]
    },
    {
      "cell_type": "code",
      "source": [
        "type(1.1416)"
      ],
      "metadata": {
        "colab": {
          "base_uri": "https://localhost:8080/"
        },
        "id": "yatqes8wlFYM",
        "outputId": "01664bc4-16dc-47bd-e9c5-12804680bea6"
      },
      "execution_count": 5,
      "outputs": [
        {
          "output_type": "execute_result",
          "data": {
            "text/plain": [
              "float"
            ]
          },
          "metadata": {},
          "execution_count": 5
        }
      ]
    },
    {
      "cell_type": "markdown",
      "source": [
        "Una variable es una forma de nombrar y guardar a un objeto"
      ],
      "metadata": {
        "id": "NTv7-JwIlTAG"
      }
    },
    {
      "cell_type": "code",
      "source": [
        "# Creando dos variables que son enteros\n",
        "\n",
        "x=1.98\n",
        "y=.32\n"
      ],
      "metadata": {
        "id": "HsFItBs_lhKo"
      },
      "execution_count": 6,
      "outputs": []
    },
    {
      "cell_type": "code",
      "source": [
        "# De esta forma, podemos realizar las operaciones antes dadas\n",
        "print(f\"Las operaciones anteriores son: {x+y}, {x-y}, {x*y}, {x**y}\")"
      ],
      "metadata": {
        "colab": {
          "base_uri": "https://localhost:8080/"
        },
        "id": "3YCC6tvPl3lK",
        "outputId": "a712ca69-f8a9-4b86-8d5c-6325df3bf155"
      },
      "execution_count": 7,
      "outputs": [
        {
          "output_type": "stream",
          "name": "stdout",
          "text": [
            "Las operaciones anteriores son: 2.3, 1.66, 0.6336, 1.2443222327371004\n"
          ]
        }
      ]
    },
    {
      "cell_type": "markdown",
      "source": [],
      "metadata": {
        "id": "FcLUQmP0fROf"
      }
    },
    {
      "cell_type": "markdown",
      "source": [],
      "metadata": {
        "id": "bCmEIshyfFr-"
      }
    }
  ]
}